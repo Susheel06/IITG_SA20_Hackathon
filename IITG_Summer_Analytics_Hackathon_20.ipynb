{
  "nbformat": 4,
  "nbformat_minor": 0,
  "metadata": {
    "colab": {
      "name": "IITG Summer Analytics Hackathon 20.ipynb",
      "provenance": [],
      "collapsed_sections": [],
      "authorship_tag": "ABX9TyOUddEG68lfX9KkBl7c4RsW",
      "include_colab_link": true
    },
    "kernelspec": {
      "name": "python3",
      "display_name": "Python 3"
    }
  },
  "cells": [
    {
      "cell_type": "markdown",
      "metadata": {
        "id": "view-in-github",
        "colab_type": "text"
      },
      "source": [
        "<a href=\"https://colab.research.google.com/github/Susheel06/IITG_SA20_Hackathon/blob/master/IITG_Summer_Analytics_Hackathon_20.ipynb\" target=\"_parent\"><img src=\"https://colab.research.google.com/assets/colab-badge.svg\" alt=\"Open In Colab\"/></a>"
      ]
    },
    {
      "cell_type": "code",
      "metadata": {
        "id": "l-nQNXepfWOI",
        "colab_type": "code",
        "colab": {}
      },
      "source": [
        "import numpy as np\n",
        "import pandas as pd\n",
        "import matplotlib.pyplot as plt\n",
        "import seaborn as sns\n",
        "import sklearn\n",
        "from sklearn.model_selection import train_test_split as tts\n",
        "from sklearn import preprocessing\n",
        "from sklearn.preprocessing import StandardScaler\n",
        "from sklearn.preprocessing import MinMaxScaler\n",
        "from sklearn.preprocessing import LabelEncoder\n",
        "import tensorflow as tf\n",
        "import pandas.util.testing as tm"
      ],
      "execution_count": null,
      "outputs": []
    },
    {
      "cell_type": "code",
      "metadata": {
        "id": "y2pyOiZRmC2k",
        "colab_type": "code",
        "colab": {
          "base_uri": "https://localhost:8080/",
          "height": 301
        },
        "outputId": "1eced923-1a2c-4a94-c372-38e84f4eb6d2"
      },
      "source": [
        "train_data = pd.read_csv('train.csv')\n",
        "train_data.shape\n",
        "StandardScaler = StandardScaler()\n",
        "train_data.head()"
      ],
      "execution_count": null,
      "outputs": [
        {
          "output_type": "execute_result",
          "data": {
            "text/html": [
              "<div>\n",
              "<style scoped>\n",
              "    .dataframe tbody tr th:only-of-type {\n",
              "        vertical-align: middle;\n",
              "    }\n",
              "\n",
              "    .dataframe tbody tr th {\n",
              "        vertical-align: top;\n",
              "    }\n",
              "\n",
              "    .dataframe thead th {\n",
              "        text-align: right;\n",
              "    }\n",
              "</style>\n",
              "<table border=\"1\" class=\"dataframe\">\n",
              "  <thead>\n",
              "    <tr style=\"text-align: right;\">\n",
              "      <th></th>\n",
              "      <th>Id</th>\n",
              "      <th>Age</th>\n",
              "      <th>Attrition</th>\n",
              "      <th>BusinessTravel</th>\n",
              "      <th>Department</th>\n",
              "      <th>DistanceFromHome</th>\n",
              "      <th>Education</th>\n",
              "      <th>EducationField</th>\n",
              "      <th>EmployeeNumber</th>\n",
              "      <th>EnvironmentSatisfaction</th>\n",
              "      <th>Gender</th>\n",
              "      <th>JobInvolvement</th>\n",
              "      <th>JobRole</th>\n",
              "      <th>JobSatisfaction</th>\n",
              "      <th>MaritalStatus</th>\n",
              "      <th>MonthlyIncome</th>\n",
              "      <th>NumCompaniesWorked</th>\n",
              "      <th>OverTime</th>\n",
              "      <th>PercentSalaryHike</th>\n",
              "      <th>PerformanceRating</th>\n",
              "      <th>StockOptionLevel</th>\n",
              "      <th>TotalWorkingYears</th>\n",
              "      <th>TrainingTimesLastYear</th>\n",
              "      <th>YearsAtCompany</th>\n",
              "      <th>YearsInCurrentRole</th>\n",
              "      <th>YearsSinceLastPromotion</th>\n",
              "      <th>YearsWithCurrManager</th>\n",
              "      <th>CommunicationSkill</th>\n",
              "      <th>Behaviour</th>\n",
              "    </tr>\n",
              "  </thead>\n",
              "  <tbody>\n",
              "    <tr>\n",
              "      <th>0</th>\n",
              "      <td>1</td>\n",
              "      <td>30</td>\n",
              "      <td>0</td>\n",
              "      <td>Non-Travel</td>\n",
              "      <td>Research &amp; Development</td>\n",
              "      <td>2</td>\n",
              "      <td>3</td>\n",
              "      <td>Medical</td>\n",
              "      <td>571</td>\n",
              "      <td>3</td>\n",
              "      <td>Female</td>\n",
              "      <td>3</td>\n",
              "      <td>Laboratory Technician</td>\n",
              "      <td>4</td>\n",
              "      <td>Single</td>\n",
              "      <td>2564</td>\n",
              "      <td>0</td>\n",
              "      <td>No</td>\n",
              "      <td>14</td>\n",
              "      <td>3</td>\n",
              "      <td>0</td>\n",
              "      <td>12</td>\n",
              "      <td>2</td>\n",
              "      <td>11</td>\n",
              "      <td>7</td>\n",
              "      <td>6</td>\n",
              "      <td>7</td>\n",
              "      <td>4</td>\n",
              "      <td>1</td>\n",
              "    </tr>\n",
              "    <tr>\n",
              "      <th>1</th>\n",
              "      <td>2</td>\n",
              "      <td>36</td>\n",
              "      <td>0</td>\n",
              "      <td>Travel_Rarely</td>\n",
              "      <td>Research &amp; Development</td>\n",
              "      <td>12</td>\n",
              "      <td>4</td>\n",
              "      <td>Life Sciences</td>\n",
              "      <td>1614</td>\n",
              "      <td>3</td>\n",
              "      <td>Female</td>\n",
              "      <td>3</td>\n",
              "      <td>Manufacturing Director</td>\n",
              "      <td>3</td>\n",
              "      <td>Married</td>\n",
              "      <td>4663</td>\n",
              "      <td>9</td>\n",
              "      <td>Yes</td>\n",
              "      <td>12</td>\n",
              "      <td>3</td>\n",
              "      <td>2</td>\n",
              "      <td>7</td>\n",
              "      <td>2</td>\n",
              "      <td>3</td>\n",
              "      <td>2</td>\n",
              "      <td>1</td>\n",
              "      <td>1</td>\n",
              "      <td>2</td>\n",
              "      <td>1</td>\n",
              "    </tr>\n",
              "    <tr>\n",
              "      <th>2</th>\n",
              "      <td>3</td>\n",
              "      <td>55</td>\n",
              "      <td>1</td>\n",
              "      <td>Travel_Rarely</td>\n",
              "      <td>Sales</td>\n",
              "      <td>2</td>\n",
              "      <td>1</td>\n",
              "      <td>Medical</td>\n",
              "      <td>842</td>\n",
              "      <td>3</td>\n",
              "      <td>Male</td>\n",
              "      <td>3</td>\n",
              "      <td>Sales Executive</td>\n",
              "      <td>4</td>\n",
              "      <td>Single</td>\n",
              "      <td>5160</td>\n",
              "      <td>4</td>\n",
              "      <td>No</td>\n",
              "      <td>16</td>\n",
              "      <td>3</td>\n",
              "      <td>0</td>\n",
              "      <td>12</td>\n",
              "      <td>3</td>\n",
              "      <td>9</td>\n",
              "      <td>7</td>\n",
              "      <td>7</td>\n",
              "      <td>3</td>\n",
              "      <td>5</td>\n",
              "      <td>1</td>\n",
              "    </tr>\n",
              "    <tr>\n",
              "      <th>3</th>\n",
              "      <td>4</td>\n",
              "      <td>39</td>\n",
              "      <td>0</td>\n",
              "      <td>Travel_Rarely</td>\n",
              "      <td>Research &amp; Development</td>\n",
              "      <td>24</td>\n",
              "      <td>1</td>\n",
              "      <td>Life Sciences</td>\n",
              "      <td>2014</td>\n",
              "      <td>1</td>\n",
              "      <td>Male</td>\n",
              "      <td>3</td>\n",
              "      <td>Research Scientist</td>\n",
              "      <td>4</td>\n",
              "      <td>Single</td>\n",
              "      <td>4108</td>\n",
              "      <td>7</td>\n",
              "      <td>No</td>\n",
              "      <td>13</td>\n",
              "      <td>3</td>\n",
              "      <td>0</td>\n",
              "      <td>18</td>\n",
              "      <td>2</td>\n",
              "      <td>7</td>\n",
              "      <td>7</td>\n",
              "      <td>1</td>\n",
              "      <td>7</td>\n",
              "      <td>4</td>\n",
              "      <td>1</td>\n",
              "    </tr>\n",
              "    <tr>\n",
              "      <th>4</th>\n",
              "      <td>5</td>\n",
              "      <td>37</td>\n",
              "      <td>0</td>\n",
              "      <td>Travel_Rarely</td>\n",
              "      <td>Research &amp; Development</td>\n",
              "      <td>3</td>\n",
              "      <td>3</td>\n",
              "      <td>Other</td>\n",
              "      <td>689</td>\n",
              "      <td>3</td>\n",
              "      <td>Male</td>\n",
              "      <td>3</td>\n",
              "      <td>Manufacturing Director</td>\n",
              "      <td>3</td>\n",
              "      <td>Married</td>\n",
              "      <td>9434</td>\n",
              "      <td>1</td>\n",
              "      <td>No</td>\n",
              "      <td>15</td>\n",
              "      <td>3</td>\n",
              "      <td>1</td>\n",
              "      <td>10</td>\n",
              "      <td>2</td>\n",
              "      <td>10</td>\n",
              "      <td>7</td>\n",
              "      <td>7</td>\n",
              "      <td>8</td>\n",
              "      <td>1</td>\n",
              "      <td>1</td>\n",
              "    </tr>\n",
              "  </tbody>\n",
              "</table>\n",
              "</div>"
            ],
            "text/plain": [
              "   Id  Age  Attrition  ... YearsWithCurrManager CommunicationSkill  Behaviour\n",
              "0   1   30          0  ...                    7                  4          1\n",
              "1   2   36          0  ...                    1                  2          1\n",
              "2   3   55          1  ...                    3                  5          1\n",
              "3   4   39          0  ...                    7                  4          1\n",
              "4   5   37          0  ...                    8                  1          1\n",
              "\n",
              "[5 rows x 29 columns]"
            ]
          },
          "metadata": {
            "tags": []
          },
          "execution_count": 1368
        }
      ]
    },
    {
      "cell_type": "code",
      "metadata": {
        "id": "RsUTe_sUqNKc",
        "colab_type": "code",
        "colab": {
          "base_uri": "https://localhost:8080/",
          "height": 397
        },
        "outputId": "b629c30f-9682-4882-bc65-e5298873b9d4"
      },
      "source": [
        "plt.figure()\n",
        "sns.heatmap(train_data.isnull(),yticklabels=False,cbar=False,cmap='viridis')"
      ],
      "execution_count": null,
      "outputs": [
        {
          "output_type": "execute_result",
          "data": {
            "text/plain": [
              "<matplotlib.axes._subplots.AxesSubplot at 0x7fd751384978>"
            ]
          },
          "metadata": {
            "tags": []
          },
          "execution_count": 1369
        },
        {
          "output_type": "display_data",
          "data": {
            "image/png": "[encoded data removed]",
            "text/plain": [
              "<Figure size 432x288 with 1 Axes>"
            ]
          },
          "metadata": {
            "tags": [],
            "needs_background": "light"
          }
        }
      ]
    },
    {
      "cell_type": "code",
      "metadata": {
        "id": "PTUDzyi7m3vl",
        "colab_type": "code",
        "colab": {
          "base_uri": "https://localhost:8080/",
          "height": 217
        },
        "outputId": "8c72be3a-5683-4836-c716-aaec35eff50a"
      },
      "source": [
        "le = LabelEncoder()\n",
        "\n",
        "X_train = train_data.drop(['Id',\t'EmployeeNumber', 'YearsSinceLastPromotion', 'EducationField', 'StockOptionLevel', 'BusinessTravel'], axis=1)\n",
        "\n",
        "\n",
        "from sklearn.preprocessing import LabelEncoder\n",
        "X=X_train\n",
        "categorical_feature_mask = X.dtypes==object\n",
        "\n",
        "categorical_cols = X.columns[categorical_feature_mask].tolist()\n",
        "\n",
        "le = LabelEncoder()\n",
        "X[categorical_cols] = X[categorical_cols].apply(lambda col: le.fit_transform(col))+1\n",
        "X_train = X\n",
        "\n",
        "X_train.head()"
      ],
      "execution_count": null,
      "outputs": [
        {
          "output_type": "execute_result",
          "data": {
            "text/html": [
              "<div>\n",
              "<style scoped>\n",
              "    .dataframe tbody tr th:only-of-type {\n",
              "        vertical-align: middle;\n",
              "    }\n",
              "\n",
              "    .dataframe tbody tr th {\n",
              "        vertical-align: top;\n",
              "    }\n",
              "\n",
              "    .dataframe thead th {\n",
              "        text-align: right;\n",
              "    }\n",
              "</style>\n",
              "<table border=\"1\" class=\"dataframe\">\n",
              "  <thead>\n",
              "    <tr style=\"text-align: right;\">\n",
              "      <th></th>\n",
              "      <th>Age</th>\n",
              "      <th>Attrition</th>\n",
              "      <th>Department</th>\n",
              "      <th>DistanceFromHome</th>\n",
              "      <th>Education</th>\n",
              "      <th>EnvironmentSatisfaction</th>\n",
              "      <th>Gender</th>\n",
              "      <th>JobInvolvement</th>\n",
              "      <th>JobRole</th>\n",
              "      <th>JobSatisfaction</th>\n",
              "      <th>MaritalStatus</th>\n",
              "      <th>MonthlyIncome</th>\n",
              "      <th>NumCompaniesWorked</th>\n",
              "      <th>OverTime</th>\n",
              "      <th>PercentSalaryHike</th>\n",
              "      <th>PerformanceRating</th>\n",
              "      <th>TotalWorkingYears</th>\n",
              "      <th>TrainingTimesLastYear</th>\n",
              "      <th>YearsAtCompany</th>\n",
              "      <th>YearsInCurrentRole</th>\n",
              "      <th>YearsWithCurrManager</th>\n",
              "      <th>CommunicationSkill</th>\n",
              "      <th>Behaviour</th>\n",
              "    </tr>\n",
              "  </thead>\n",
              "  <tbody>\n",
              "    <tr>\n",
              "      <th>0</th>\n",
              "      <td>30</td>\n",
              "      <td>0</td>\n",
              "      <td>2</td>\n",
              "      <td>2</td>\n",
              "      <td>3</td>\n",
              "      <td>3</td>\n",
              "      <td>1</td>\n",
              "      <td>3</td>\n",
              "      <td>3</td>\n",
              "      <td>4</td>\n",
              "      <td>3</td>\n",
              "      <td>2564</td>\n",
              "      <td>0</td>\n",
              "      <td>1</td>\n",
              "      <td>14</td>\n",
              "      <td>3</td>\n",
              "      <td>12</td>\n",
              "      <td>2</td>\n",
              "      <td>11</td>\n",
              "      <td>7</td>\n",
              "      <td>7</td>\n",
              "      <td>4</td>\n",
              "      <td>1</td>\n",
              "    </tr>\n",
              "    <tr>\n",
              "      <th>1</th>\n",
              "      <td>36</td>\n",
              "      <td>0</td>\n",
              "      <td>2</td>\n",
              "      <td>12</td>\n",
              "      <td>4</td>\n",
              "      <td>3</td>\n",
              "      <td>1</td>\n",
              "      <td>3</td>\n",
              "      <td>5</td>\n",
              "      <td>3</td>\n",
              "      <td>2</td>\n",
              "      <td>4663</td>\n",
              "      <td>9</td>\n",
              "      <td>2</td>\n",
              "      <td>12</td>\n",
              "      <td>3</td>\n",
              "      <td>7</td>\n",
              "      <td>2</td>\n",
              "      <td>3</td>\n",
              "      <td>2</td>\n",
              "      <td>1</td>\n",
              "      <td>2</td>\n",
              "      <td>1</td>\n",
              "    </tr>\n",
              "    <tr>\n",
              "      <th>2</th>\n",
              "      <td>55</td>\n",
              "      <td>1</td>\n",
              "      <td>3</td>\n",
              "      <td>2</td>\n",
              "      <td>1</td>\n",
              "      <td>3</td>\n",
              "      <td>2</td>\n",
              "      <td>3</td>\n",
              "      <td>8</td>\n",
              "      <td>4</td>\n",
              "      <td>3</td>\n",
              "      <td>5160</td>\n",
              "      <td>4</td>\n",
              "      <td>1</td>\n",
              "      <td>16</td>\n",
              "      <td>3</td>\n",
              "      <td>12</td>\n",
              "      <td>3</td>\n",
              "      <td>9</td>\n",
              "      <td>7</td>\n",
              "      <td>3</td>\n",
              "      <td>5</td>\n",
              "      <td>1</td>\n",
              "    </tr>\n",
              "    <tr>\n",
              "      <th>3</th>\n",
              "      <td>39</td>\n",
              "      <td>0</td>\n",
              "      <td>2</td>\n",
              "      <td>24</td>\n",
              "      <td>1</td>\n",
              "      <td>1</td>\n",
              "      <td>2</td>\n",
              "      <td>3</td>\n",
              "      <td>7</td>\n",
              "      <td>4</td>\n",
              "      <td>3</td>\n",
              "      <td>4108</td>\n",
              "      <td>7</td>\n",
              "      <td>1</td>\n",
              "      <td>13</td>\n",
              "      <td>3</td>\n",
              "      <td>18</td>\n",
              "      <td>2</td>\n",
              "      <td>7</td>\n",
              "      <td>7</td>\n",
              "      <td>7</td>\n",
              "      <td>4</td>\n",
              "      <td>1</td>\n",
              "    </tr>\n",
              "    <tr>\n",
              "      <th>4</th>\n",
              "      <td>37</td>\n",
              "      <td>0</td>\n",
              "      <td>2</td>\n",
              "      <td>3</td>\n",
              "      <td>3</td>\n",
              "      <td>3</td>\n",
              "      <td>2</td>\n",
              "      <td>3</td>\n",
              "      <td>5</td>\n",
              "      <td>3</td>\n",
              "      <td>2</td>\n",
              "      <td>9434</td>\n",
              "      <td>1</td>\n",
              "      <td>1</td>\n",
              "      <td>15</td>\n",
              "      <td>3</td>\n",
              "      <td>10</td>\n",
              "      <td>2</td>\n",
              "      <td>10</td>\n",
              "      <td>7</td>\n",
              "      <td>8</td>\n",
              "      <td>1</td>\n",
              "      <td>1</td>\n",
              "    </tr>\n",
              "  </tbody>\n",
              "</table>\n",
              "</div>"
            ],
            "text/plain": [
              "   Age  Attrition  ...  CommunicationSkill  Behaviour\n",
              "0   30          0  ...                   4          1\n",
              "1   36          0  ...                   2          1\n",
              "2   55          1  ...                   5          1\n",
              "3   39          0  ...                   4          1\n",
              "4   37          0  ...                   1          1\n",
              "\n",
              "[5 rows x 23 columns]"
            ]
          },
          "metadata": {
            "tags": []
          },
          "execution_count": 1370
        }
      ]
    },
    {
      "cell_type": "code",
      "metadata": {
        "id": "GBgAdLkM7-jA",
        "colab_type": "code",
        "colab": {
          "base_uri": "https://localhost:8080/",
          "height": 836
        },
        "outputId": "f7be3fcb-ce6c-444e-db5e-b225a7ef66b5"
      },
      "source": [
        "plt.figure(figsize=(15,12))\n",
        "sns.heatmap(train_data.corr())"
      ],
      "execution_count": null,
      "outputs": [
        {
          "output_type": "execute_result",
          "data": {
            "text/plain": [
              "<matplotlib.axes._subplots.AxesSubplot at 0x7fd7514a3b70>"
            ]
          },
          "metadata": {
            "tags": []
          },
          "execution_count": 1371
        },
        {
          "output_type": "display_data",
          "data": {
            "image/png": "[encoded data removed]",
            "text/plain": [
              "<Figure size 1080x864 with 2 Axes>"
            ]
          },
          "metadata": {
            "tags": [],
            "needs_background": "light"
          }
        }
      ]
    },
    {
      "cell_type": "code",
      "metadata": {
        "id": "W9szwL1H2EUO",
        "colab_type": "code",
        "colab": {
          "base_uri": "https://localhost:8080/",
          "height": 235
        },
        "outputId": "3101ee16-9074-44c4-c114-395ced087a04"
      },
      "source": [
        "Edu_Age_TotalWorking = np.array(X_train['Education'] / (X_train['Age'] + X_train['TotalWorkingYears']))\n",
        "CurrMgr_Coy = np.array(X_train['YearsWithCurrManager'] / (X_train['YearsAtCompany'] + 1))\n",
        "CurrRole_CurrMgr = np.array(X_train['YearsInCurrentRole'] / (X_train['YearsWithCurrManager'] + 1))\n",
        "\n",
        "\n",
        "print(Edu_Age_TotalWorking)\n",
        "X_train.insert(1,'EAT_working',  Edu_Age_TotalWorking)\n",
        "X_train.insert(2, 'CM_Coy', CurrMgr_Coy)\n",
        "X_train.insert(3, 'CR_CM', CurrRole_CurrMgr)\n",
        "\n",
        "X_train.drop(columns=['Education', 'TotalWorkingYears', 'YearsWithCurrManager', 'YearsAtCompany', 'YearsInCurrentRole'], inplace=True)\n",
        "X_train.head()"
      ],
      "execution_count": null,
      "outputs": [
        {
          "output_type": "stream",
          "text": [
            "[0.07142857 0.09302326 0.01492537 ... 0.06451613 0.09090909 0.03030303]\n"
          ],
          "name": "stdout"
        },
        {
          "output_type": "execute_result",
          "data": {
            "text/html": [
              "<div>\n",
              "<style scoped>\n",
              "    .dataframe tbody tr th:only-of-type {\n",
              "        vertical-align: middle;\n",
              "    }\n",
              "\n",
              "    .dataframe tbody tr th {\n",
              "        vertical-align: top;\n",
              "    }\n",
              "\n",
              "    .dataframe thead th {\n",
              "        text-align: right;\n",
              "    }\n",
              "</style>\n",
              "<table border=\"1\" class=\"dataframe\">\n",
              "  <thead>\n",
              "    <tr style=\"text-align: right;\">\n",
              "      <th></th>\n",
              "      <th>Age</th>\n",
              "      <th>EAT_working</th>\n",
              "      <th>CM_Coy</th>\n",
              "      <th>CR_CM</th>\n",
              "      <th>Attrition</th>\n",
              "      <th>Department</th>\n",
              "      <th>DistanceFromHome</th>\n",
              "      <th>EnvironmentSatisfaction</th>\n",
              "      <th>Gender</th>\n",
              "      <th>JobInvolvement</th>\n",
              "      <th>JobRole</th>\n",
              "      <th>JobSatisfaction</th>\n",
              "      <th>MaritalStatus</th>\n",
              "      <th>MonthlyIncome</th>\n",
              "      <th>NumCompaniesWorked</th>\n",
              "      <th>OverTime</th>\n",
              "      <th>PercentSalaryHike</th>\n",
              "      <th>PerformanceRating</th>\n",
              "      <th>TrainingTimesLastYear</th>\n",
              "      <th>CommunicationSkill</th>\n",
              "      <th>Behaviour</th>\n",
              "    </tr>\n",
              "  </thead>\n",
              "  <tbody>\n",
              "    <tr>\n",
              "      <th>0</th>\n",
              "      <td>30</td>\n",
              "      <td>0.071429</td>\n",
              "      <td>0.583333</td>\n",
              "      <td>0.875000</td>\n",
              "      <td>0</td>\n",
              "      <td>2</td>\n",
              "      <td>2</td>\n",
              "      <td>3</td>\n",
              "      <td>1</td>\n",
              "      <td>3</td>\n",
              "      <td>3</td>\n",
              "      <td>4</td>\n",
              "      <td>3</td>\n",
              "      <td>2564</td>\n",
              "      <td>0</td>\n",
              "      <td>1</td>\n",
              "      <td>14</td>\n",
              "      <td>3</td>\n",
              "      <td>2</td>\n",
              "      <td>4</td>\n",
              "      <td>1</td>\n",
              "    </tr>\n",
              "    <tr>\n",
              "      <th>1</th>\n",
              "      <td>36</td>\n",
              "      <td>0.093023</td>\n",
              "      <td>0.250000</td>\n",
              "      <td>1.000000</td>\n",
              "      <td>0</td>\n",
              "      <td>2</td>\n",
              "      <td>12</td>\n",
              "      <td>3</td>\n",
              "      <td>1</td>\n",
              "      <td>3</td>\n",
              "      <td>5</td>\n",
              "      <td>3</td>\n",
              "      <td>2</td>\n",
              "      <td>4663</td>\n",
              "      <td>9</td>\n",
              "      <td>2</td>\n",
              "      <td>12</td>\n",
              "      <td>3</td>\n",
              "      <td>2</td>\n",
              "      <td>2</td>\n",
              "      <td>1</td>\n",
              "    </tr>\n",
              "    <tr>\n",
              "      <th>2</th>\n",
              "      <td>55</td>\n",
              "      <td>0.014925</td>\n",
              "      <td>0.300000</td>\n",
              "      <td>1.750000</td>\n",
              "      <td>1</td>\n",
              "      <td>3</td>\n",
              "      <td>2</td>\n",
              "      <td>3</td>\n",
              "      <td>2</td>\n",
              "      <td>3</td>\n",
              "      <td>8</td>\n",
              "      <td>4</td>\n",
              "      <td>3</td>\n",
              "      <td>5160</td>\n",
              "      <td>4</td>\n",
              "      <td>1</td>\n",
              "      <td>16</td>\n",
              "      <td>3</td>\n",
              "      <td>3</td>\n",
              "      <td>5</td>\n",
              "      <td>1</td>\n",
              "    </tr>\n",
              "    <tr>\n",
              "      <th>3</th>\n",
              "      <td>39</td>\n",
              "      <td>0.017544</td>\n",
              "      <td>0.875000</td>\n",
              "      <td>0.875000</td>\n",
              "      <td>0</td>\n",
              "      <td>2</td>\n",
              "      <td>24</td>\n",
              "      <td>1</td>\n",
              "      <td>2</td>\n",
              "      <td>3</td>\n",
              "      <td>7</td>\n",
              "      <td>4</td>\n",
              "      <td>3</td>\n",
              "      <td>4108</td>\n",
              "      <td>7</td>\n",
              "      <td>1</td>\n",
              "      <td>13</td>\n",
              "      <td>3</td>\n",
              "      <td>2</td>\n",
              "      <td>4</td>\n",
              "      <td>1</td>\n",
              "    </tr>\n",
              "    <tr>\n",
              "      <th>4</th>\n",
              "      <td>37</td>\n",
              "      <td>0.063830</td>\n",
              "      <td>0.727273</td>\n",
              "      <td>0.777778</td>\n",
              "      <td>0</td>\n",
              "      <td>2</td>\n",
              "      <td>3</td>\n",
              "      <td>3</td>\n",
              "      <td>2</td>\n",
              "      <td>3</td>\n",
              "      <td>5</td>\n",
              "      <td>3</td>\n",
              "      <td>2</td>\n",
              "      <td>9434</td>\n",
              "      <td>1</td>\n",
              "      <td>1</td>\n",
              "      <td>15</td>\n",
              "      <td>3</td>\n",
              "      <td>2</td>\n",
              "      <td>1</td>\n",
              "      <td>1</td>\n",
              "    </tr>\n",
              "  </tbody>\n",
              "</table>\n",
              "</div>"
            ],
            "text/plain": [
              "   Age  EAT_working  ...  CommunicationSkill  Behaviour\n",
              "0   30     0.071429  ...                   4          1\n",
              "1   36     0.093023  ...                   2          1\n",
              "2   55     0.014925  ...                   5          1\n",
              "3   39     0.017544  ...                   4          1\n",
              "4   37     0.063830  ...                   1          1\n",
              "\n",
              "[5 rows x 21 columns]"
            ]
          },
          "metadata": {
            "tags": []
          },
          "execution_count": 1372
        }
      ]
    },
    {
      "cell_type": "code",
      "metadata": {
        "id": "EmP_fxJqujpz",
        "colab_type": "code",
        "colab": {
          "base_uri": "https://localhost:8080/",
          "height": 34
        },
        "outputId": "428ee987-61d5-4a30-e820-bcc0f53d70ab"
      },
      "source": [
        "X_train.shape"
      ],
      "execution_count": null,
      "outputs": [
        {
          "output_type": "execute_result",
          "data": {
            "text/plain": [
              "(1628, 21)"
            ]
          },
          "metadata": {
            "tags": []
          },
          "execution_count": 1373
        }
      ]
    },
    {
      "cell_type": "code",
      "metadata": {
        "id": "SwcqAP9evT4t",
        "colab_type": "code",
        "colab": {
          "base_uri": "https://localhost:8080/",
          "height": 217
        },
        "outputId": "5475f83c-0d1e-4f15-b950-d9560322b464"
      },
      "source": [
        "y_train=X_train['Attrition']\n",
        "\n",
        "X_train.drop(columns=['Attrition'], inplace=True, axis=1)\n",
        "X_train.head()"
      ],
      "execution_count": null,
      "outputs": [
        {
          "output_type": "execute_result",
          "data": {
            "text/html": [
              "<div>\n",
              "<style scoped>\n",
              "    .dataframe tbody tr th:only-of-type {\n",
              "        vertical-align: middle;\n",
              "    }\n",
              "\n",
              "    .dataframe tbody tr th {\n",
              "        vertical-align: top;\n",
              "    }\n",
              "\n",
              "    .dataframe thead th {\n",
              "        text-align: right;\n",
              "    }\n",
              "</style>\n",
              "<table border=\"1\" class=\"dataframe\">\n",
              "  <thead>\n",
              "    <tr style=\"text-align: right;\">\n",
              "      <th></th>\n",
              "      <th>Age</th>\n",
              "      <th>EAT_working</th>\n",
              "      <th>CM_Coy</th>\n",
              "      <th>CR_CM</th>\n",
              "      <th>Department</th>\n",
              "      <th>DistanceFromHome</th>\n",
              "      <th>EnvironmentSatisfaction</th>\n",
              "      <th>Gender</th>\n",
              "      <th>JobInvolvement</th>\n",
              "      <th>JobRole</th>\n",
              "      <th>JobSatisfaction</th>\n",
              "      <th>MaritalStatus</th>\n",
              "      <th>MonthlyIncome</th>\n",
              "      <th>NumCompaniesWorked</th>\n",
              "      <th>OverTime</th>\n",
              "      <th>PercentSalaryHike</th>\n",
              "      <th>PerformanceRating</th>\n",
              "      <th>TrainingTimesLastYear</th>\n",
              "      <th>CommunicationSkill</th>\n",
              "      <th>Behaviour</th>\n",
              "    </tr>\n",
              "  </thead>\n",
              "  <tbody>\n",
              "    <tr>\n",
              "      <th>0</th>\n",
              "      <td>30</td>\n",
              "      <td>0.071429</td>\n",
              "      <td>0.583333</td>\n",
              "      <td>0.875000</td>\n",
              "      <td>2</td>\n",
              "      <td>2</td>\n",
              "      <td>3</td>\n",
              "      <td>1</td>\n",
              "      <td>3</td>\n",
              "      <td>3</td>\n",
              "      <td>4</td>\n",
              "      <td>3</td>\n",
              "      <td>2564</td>\n",
              "      <td>0</td>\n",
              "      <td>1</td>\n",
              "      <td>14</td>\n",
              "      <td>3</td>\n",
              "      <td>2</td>\n",
              "      <td>4</td>\n",
              "      <td>1</td>\n",
              "    </tr>\n",
              "    <tr>\n",
              "      <th>1</th>\n",
              "      <td>36</td>\n",
              "      <td>0.093023</td>\n",
              "      <td>0.250000</td>\n",
              "      <td>1.000000</td>\n",
              "      <td>2</td>\n",
              "      <td>12</td>\n",
              "      <td>3</td>\n",
              "      <td>1</td>\n",
              "      <td>3</td>\n",
              "      <td>5</td>\n",
              "      <td>3</td>\n",
              "      <td>2</td>\n",
              "      <td>4663</td>\n",
              "      <td>9</td>\n",
              "      <td>2</td>\n",
              "      <td>12</td>\n",
              "      <td>3</td>\n",
              "      <td>2</td>\n",
              "      <td>2</td>\n",
              "      <td>1</td>\n",
              "    </tr>\n",
              "    <tr>\n",
              "      <th>2</th>\n",
              "      <td>55</td>\n",
              "      <td>0.014925</td>\n",
              "      <td>0.300000</td>\n",
              "      <td>1.750000</td>\n",
              "      <td>3</td>\n",
              "      <td>2</td>\n",
              "      <td>3</td>\n",
              "      <td>2</td>\n",
              "      <td>3</td>\n",
              "      <td>8</td>\n",
              "      <td>4</td>\n",
              "      <td>3</td>\n",
              "      <td>5160</td>\n",
              "      <td>4</td>\n",
              "      <td>1</td>\n",
              "      <td>16</td>\n",
              "      <td>3</td>\n",
              "      <td>3</td>\n",
              "      <td>5</td>\n",
              "      <td>1</td>\n",
              "    </tr>\n",
              "    <tr>\n",
              "      <th>3</th>\n",
              "      <td>39</td>\n",
              "      <td>0.017544</td>\n",
              "      <td>0.875000</td>\n",
              "      <td>0.875000</td>\n",
              "      <td>2</td>\n",
              "      <td>24</td>\n",
              "      <td>1</td>\n",
              "      <td>2</td>\n",
              "      <td>3</td>\n",
              "      <td>7</td>\n",
              "      <td>4</td>\n",
              "      <td>3</td>\n",
              "      <td>4108</td>\n",
              "      <td>7</td>\n",
              "      <td>1</td>\n",
              "      <td>13</td>\n",
              "      <td>3</td>\n",
              "      <td>2</td>\n",
              "      <td>4</td>\n",
              "      <td>1</td>\n",
              "    </tr>\n",
              "    <tr>\n",
              "      <th>4</th>\n",
              "      <td>37</td>\n",
              "      <td>0.063830</td>\n",
              "      <td>0.727273</td>\n",
              "      <td>0.777778</td>\n",
              "      <td>2</td>\n",
              "      <td>3</td>\n",
              "      <td>3</td>\n",
              "      <td>2</td>\n",
              "      <td>3</td>\n",
              "      <td>5</td>\n",
              "      <td>3</td>\n",
              "      <td>2</td>\n",
              "      <td>9434</td>\n",
              "      <td>1</td>\n",
              "      <td>1</td>\n",
              "      <td>15</td>\n",
              "      <td>3</td>\n",
              "      <td>2</td>\n",
              "      <td>1</td>\n",
              "      <td>1</td>\n",
              "    </tr>\n",
              "  </tbody>\n",
              "</table>\n",
              "</div>"
            ],
            "text/plain": [
              "   Age  EAT_working  ...  CommunicationSkill  Behaviour\n",
              "0   30     0.071429  ...                   4          1\n",
              "1   36     0.093023  ...                   2          1\n",
              "2   55     0.014925  ...                   5          1\n",
              "3   39     0.017544  ...                   4          1\n",
              "4   37     0.063830  ...                   1          1\n",
              "\n",
              "[5 rows x 20 columns]"
            ]
          },
          "metadata": {
            "tags": []
          },
          "execution_count": 1374
        }
      ]
    },
    {
      "cell_type": "code",
      "metadata": {
        "id": "Ap7O5skImG7z",
        "colab_type": "code",
        "colab": {
          "base_uri": "https://localhost:8080/",
          "height": 72
        },
        "outputId": "be7fc98e-8eb0-494e-fe35-79972705aef3"
      },
      "source": [
        "from sklearn.feature_selection import SelectKBest\n",
        "from sklearn.feature_selection import chi2\n",
        "\n",
        "X=X_train\n",
        "y=y_train\n",
        "\n",
        "print(X.shape)\n",
        "X_norm = MinMaxScaler().fit_transform(X)\n",
        "chi_selector = SelectKBest(chi2, k=15)\n",
        "chi_selector.fit(X_norm, y)\n",
        "chi_support = chi_selector.get_support()\n",
        "chi_feature = X.loc[:,chi_support].columns.tolist()\n",
        "print(chi_feature)\n",
        "\n",
        "X_train = X_train.loc[:, chi_feature]"
      ],
      "execution_count": null,
      "outputs": [
        {
          "output_type": "stream",
          "text": [
            "(1628, 20)\n",
            "['Age', 'EAT_working', 'CM_Coy', 'CR_CM', 'Department', 'DistanceFromHome', 'EnvironmentSatisfaction', 'JobInvolvement', 'JobRole', 'JobSatisfaction', 'MaritalStatus', 'MonthlyIncome', 'OverTime', 'TrainingTimesLastYear', 'CommunicationSkill']\n"
          ],
          "name": "stdout"
        }
      ]
    },
    {
      "cell_type": "code",
      "metadata": {
        "id": "u2VeQph8Uy_0",
        "colab_type": "code",
        "colab": {
          "base_uri": "https://localhost:8080/",
          "height": 217
        },
        "outputId": "a8b77ed3-2295-433a-9b86-6d6a776d3a50"
      },
      "source": [
        "X_train = pd.DataFrame(data = (X_train+0.1).apply(np.log), columns=X_train.columns)\n",
        "X_train.head()"
      ],
      "execution_count": null,
      "outputs": [
        {
          "output_type": "execute_result",
          "data": {
            "text/html": [
              "<div>\n",
              "<style scoped>\n",
              "    .dataframe tbody tr th:only-of-type {\n",
              "        vertical-align: middle;\n",
              "    }\n",
              "\n",
              "    .dataframe tbody tr th {\n",
              "        vertical-align: top;\n",
              "    }\n",
              "\n",
              "    .dataframe thead th {\n",
              "        text-align: right;\n",
              "    }\n",
              "</style>\n",
              "<table border=\"1\" class=\"dataframe\">\n",
              "  <thead>\n",
              "    <tr style=\"text-align: right;\">\n",
              "      <th></th>\n",
              "      <th>Age</th>\n",
              "      <th>EAT_working</th>\n",
              "      <th>CM_Coy</th>\n",
              "      <th>CR_CM</th>\n",
              "      <th>Department</th>\n",
              "      <th>DistanceFromHome</th>\n",
              "      <th>EnvironmentSatisfaction</th>\n",
              "      <th>JobInvolvement</th>\n",
              "      <th>JobRole</th>\n",
              "      <th>JobSatisfaction</th>\n",
              "      <th>MaritalStatus</th>\n",
              "      <th>MonthlyIncome</th>\n",
              "      <th>OverTime</th>\n",
              "      <th>TrainingTimesLastYear</th>\n",
              "      <th>CommunicationSkill</th>\n",
              "    </tr>\n",
              "  </thead>\n",
              "  <tbody>\n",
              "    <tr>\n",
              "      <th>0</th>\n",
              "      <td>3.404525</td>\n",
              "      <td>-1.763589</td>\n",
              "      <td>-0.380772</td>\n",
              "      <td>-0.025318</td>\n",
              "      <td>0.741937</td>\n",
              "      <td>0.741937</td>\n",
              "      <td>1.131402</td>\n",
              "      <td>1.131402</td>\n",
              "      <td>1.131402</td>\n",
              "      <td>1.410987</td>\n",
              "      <td>1.131402</td>\n",
              "      <td>7.849363</td>\n",
              "      <td>0.095310</td>\n",
              "      <td>0.741937</td>\n",
              "      <td>1.410987</td>\n",
              "    </tr>\n",
              "    <tr>\n",
              "      <th>1</th>\n",
              "      <td>3.586293</td>\n",
              "      <td>-1.644945</td>\n",
              "      <td>-1.049822</td>\n",
              "      <td>0.095310</td>\n",
              "      <td>0.741937</td>\n",
              "      <td>2.493205</td>\n",
              "      <td>1.131402</td>\n",
              "      <td>1.131402</td>\n",
              "      <td>1.629241</td>\n",
              "      <td>1.131402</td>\n",
              "      <td>0.741937</td>\n",
              "      <td>8.447436</td>\n",
              "      <td>0.741937</td>\n",
              "      <td>0.741937</td>\n",
              "      <td>0.741937</td>\n",
              "    </tr>\n",
              "    <tr>\n",
              "      <th>2</th>\n",
              "      <td>4.009150</td>\n",
              "      <td>-2.163472</td>\n",
              "      <td>-0.916291</td>\n",
              "      <td>0.615186</td>\n",
              "      <td>1.131402</td>\n",
              "      <td>0.741937</td>\n",
              "      <td>1.131402</td>\n",
              "      <td>1.131402</td>\n",
              "      <td>2.091864</td>\n",
              "      <td>1.410987</td>\n",
              "      <td>1.131402</td>\n",
              "      <td>8.548711</td>\n",
              "      <td>0.095310</td>\n",
              "      <td>1.131402</td>\n",
              "      <td>1.629241</td>\n",
              "    </tr>\n",
              "    <tr>\n",
              "      <th>3</th>\n",
              "      <td>3.666122</td>\n",
              "      <td>-2.140944</td>\n",
              "      <td>-0.025318</td>\n",
              "      <td>-0.025318</td>\n",
              "      <td>0.741937</td>\n",
              "      <td>3.182212</td>\n",
              "      <td>0.095310</td>\n",
              "      <td>1.131402</td>\n",
              "      <td>1.960095</td>\n",
              "      <td>1.410987</td>\n",
              "      <td>1.131402</td>\n",
              "      <td>8.320716</td>\n",
              "      <td>0.095310</td>\n",
              "      <td>0.741937</td>\n",
              "      <td>1.410987</td>\n",
              "    </tr>\n",
              "    <tr>\n",
              "      <th>4</th>\n",
              "      <td>3.613617</td>\n",
              "      <td>-1.808927</td>\n",
              "      <td>-0.189621</td>\n",
              "      <td>-0.130362</td>\n",
              "      <td>0.741937</td>\n",
              "      <td>1.131402</td>\n",
              "      <td>1.131402</td>\n",
              "      <td>1.131402</td>\n",
              "      <td>1.629241</td>\n",
              "      <td>1.131402</td>\n",
              "      <td>0.741937</td>\n",
              "      <td>9.152086</td>\n",
              "      <td>0.095310</td>\n",
              "      <td>0.741937</td>\n",
              "      <td>0.095310</td>\n",
              "    </tr>\n",
              "  </tbody>\n",
              "</table>\n",
              "</div>"
            ],
            "text/plain": [
              "        Age  EAT_working  ...  TrainingTimesLastYear  CommunicationSkill\n",
              "0  3.404525    -1.763589  ...               0.741937            1.410987\n",
              "1  3.586293    -1.644945  ...               0.741937            0.741937\n",
              "2  4.009150    -2.163472  ...               1.131402            1.629241\n",
              "3  3.666122    -2.140944  ...               0.741937            1.410987\n",
              "4  3.613617    -1.808927  ...               0.741937            0.095310\n",
              "\n",
              "[5 rows x 15 columns]"
            ]
          },
          "metadata": {
            "tags": []
          },
          "execution_count": 1376
        }
      ]
    },
    {
      "cell_type": "code",
      "metadata": {
        "id": "wO8DJ4aoZRTW",
        "colab_type": "code",
        "colab": {
          "base_uri": "https://localhost:8080/",
          "height": 34
        },
        "outputId": "d1967cf6-92c6-479e-f575-f6f6808085f5"
      },
      "source": [
        "from sklearn.preprocessing import StandardScaler\n",
        "\n",
        "scaler = StandardScaler()\n",
        "X_train = pd.DataFrame(data=scaler.fit_transform(X_train), columns=X_train.columns)\n",
        "\n",
        "X_train.shape"
      ],
      "execution_count": null,
      "outputs": [
        {
          "output_type": "execute_result",
          "data": {
            "text/plain": [
              "(1628, 15)"
            ]
          },
          "metadata": {
            "tags": []
          },
          "execution_count": 1377
        }
      ]
    },
    {
      "cell_type": "code",
      "metadata": {
        "id": "zUt_LWMKk4NF",
        "colab_type": "code",
        "colab": {
          "base_uri": "https://localhost:8080/",
          "height": 315
        },
        "outputId": "6984e06f-f0ab-44ee-a29f-e760a162c967"
      },
      "source": [
        "import imblearn\n",
        "from imblearn.over_sampling import SMOTE\n",
        "\n",
        "sm = SMOTE(random_state = 1)\n",
        "X_train, y_train = sm.fit_sample(X_train, y_train.ravel())\n",
        "\n",
        "pd.Series(y_train).value_counts().plot.bar()"
      ],
      "execution_count": null,
      "outputs": [
        {
          "output_type": "stream",
          "text": [
            "/usr/local/lib/python3.6/dist-packages/sklearn/utils/deprecation.py:87: FutureWarning: Function safe_indexing is deprecated; safe_indexing is deprecated in version 0.22 and will be removed in version 0.24.\n",
            "  warnings.warn(msg, category=FutureWarning)\n"
          ],
          "name": "stderr"
        },
        {
          "output_type": "execute_result",
          "data": {
            "text/plain": [
              "<matplotlib.axes._subplots.AxesSubplot at 0x7fd75131d1d0>"
            ]
          },
          "metadata": {
            "tags": []
          },
          "execution_count": 1378
        },
        {
          "output_type": "display_data",
          "data": {
            "image/png": "[encoded data removed]",
            "text/plain": [
              "<Figure size 432x288 with 1 Axes>"
            ]
          },
          "metadata": {
            "tags": [],
            "needs_background": "light"
          }
        }
      ]
    },
    {
      "cell_type": "code",
      "metadata": {
        "id": "68LuwnBolZgI",
        "colab_type": "code",
        "colab": {
          "base_uri": "https://localhost:8080/",
          "height": 34
        },
        "outputId": "514214ca-69a8-4336-f83c-4907a9ac9a81"
      },
      "source": [
        "X_train.shape"
      ],
      "execution_count": null,
      "outputs": [
        {
          "output_type": "execute_result",
          "data": {
            "text/plain": [
              "(1686, 15)"
            ]
          },
          "metadata": {
            "tags": []
          },
          "execution_count": 1379
        }
      ]
    },
    {
      "cell_type": "code",
      "metadata": {
        "id": "HPSNnH_CNJlP",
        "colab_type": "code",
        "colab": {}
      },
      "source": [
        "from sklearn.model_selection import train_test_split as tts\n",
        "\n",
        "X_train, X_validation, y_train, y_validation = tts(X_train, y_train, test_size=0.2, train_size=0.8)"
      ],
      "execution_count": null,
      "outputs": []
    },
    {
      "cell_type": "code",
      "metadata": {
        "id": "2OiBgWyUuhqh",
        "colab_type": "code",
        "colab": {
          "base_uri": "https://localhost:8080/",
          "height": 87
        },
        "outputId": "f155fec7-0773-41bd-ef61-d429a794d642"
      },
      "source": [
        "print(X_train.shape)\n",
        "print(y_train.shape)\n",
        "print(X_validation.shape)\n",
        "print(y_validation.shape)"
      ],
      "execution_count": null,
      "outputs": [
        {
          "output_type": "stream",
          "text": [
            "(1348, 15)\n",
            "(1348,)\n",
            "(338, 15)\n",
            "(338,)\n"
          ],
          "name": "stdout"
        }
      ]
    },
    {
      "cell_type": "code",
      "metadata": {
        "id": "qOkf0C1hNA6I",
        "colab_type": "code",
        "colab": {}
      },
      "source": [
        "from sklearn.ensemble import RandomForestClassifier\n",
        "\n",
        "model = RandomForestClassifier(random_state = 1, max_depth = 9, n_estimators = 1500, min_samples_split = 2, min_samples_leaf = 1)\n",
        "model = model.fit(X_train, y_train)"
      ],
      "execution_count": null,
      "outputs": []
    },
    {
      "cell_type": "code",
      "metadata": {
        "id": "fJ2924eNzMF5",
        "colab_type": "code",
        "colab": {
          "base_uri": "https://localhost:8080/",
          "height": 34
        },
        "outputId": "d9628a3e-8f78-4b28-e015-90c56fd1cb7f"
      },
      "source": [
        "from sklearn.metrics import roc_auc_score\n",
        "from sklearn.metrics import f1_score\n",
        "from sklearn.metrics import accuracy_score\n",
        "\n",
        "Y_predict_training = model.predict(X_train)\n",
        "print(roc_auc_score(y_train, Y_predict_training))"
      ],
      "execution_count": null,
      "outputs": [
        {
          "output_type": "stream",
          "text": [
            "0.9977722597914906\n"
          ],
          "name": "stdout"
        }
      ]
    },
    {
      "cell_type": "code",
      "metadata": {
        "id": "VEkIjNwuGPw2",
        "colab_type": "code",
        "colab": {
          "base_uri": "https://localhost:8080/",
          "height": 34
        },
        "outputId": "32bf0b67-eee9-40ce-c724-efa293df6904"
      },
      "source": [
        "Y_predict_validation = model.predict(X_validation)\n",
        "from sklearn.metrics import accuracy_score\n",
        "print(roc_auc_score(y_validation, Y_predict_validation))"
      ],
      "execution_count": null,
      "outputs": [
        {
          "output_type": "stream",
          "text": [
            "0.9763280456630599\n"
          ],
          "name": "stdout"
        }
      ]
    },
    {
      "cell_type": "code",
      "metadata": {
        "id": "tiXk3KL8vjXY",
        "colab_type": "code",
        "colab": {
          "base_uri": "https://localhost:8080/",
          "height": 395
        },
        "outputId": "1f05b84f-43d1-40c1-8799-693d050eaeef"
      },
      "source": [
        "import seaborn as sns\n",
        "test_data = pd.read_csv('test.csv')\n",
        "ID_test = test_data.Id\n",
        "\n",
        "test_data.drop(['Id',\t'EmployeeNumber', 'YearsSinceLastPromotion', 'EducationField', 'StockOptionLevel', 'BusinessTravel'], axis=1, inplace=True)\n",
        "\n",
        "X_test = test_data\n",
        "\n",
        "plt.figure()\n",
        "sns.heatmap(X_test.isnull(),yticklabels=False,cbar=False,cmap='viridis')"
      ],
      "execution_count": null,
      "outputs": [
        {
          "output_type": "execute_result",
          "data": {
            "text/plain": [
              "<matplotlib.axes._subplots.AxesSubplot at 0x7fd7511ef748>"
            ]
          },
          "metadata": {
            "tags": []
          },
          "execution_count": 1385
        },
        {
          "output_type": "display_data",
          "data": {
            "image/png": "[encoded data removed]",
            "text/plain": [
              "<Figure size 432x288 with 1 Axes>"
            ]
          },
          "metadata": {
            "tags": [],
            "needs_background": "light"
          }
        }
      ]
    },
    {
      "cell_type": "code",
      "metadata": {
        "id": "TGpAkUmzqWmt",
        "colab_type": "code",
        "colab": {}
      },
      "source": [
        "X=X_test\n",
        "categorical_feature_mask = X.dtypes==object\n",
        "categorical_cols = X.columns[categorical_feature_mask].tolist()\n",
        "le = LabelEncoder()\n",
        "X[categorical_cols] = X[categorical_cols].apply(lambda col: le.fit_transform(col))+1\n",
        "X_test = X"
      ],
      "execution_count": null,
      "outputs": []
    },
    {
      "cell_type": "code",
      "metadata": {
        "id": "uyKulTx-qbRN",
        "colab_type": "code",
        "colab": {
          "base_uri": "https://localhost:8080/",
          "height": 235
        },
        "outputId": "436327cc-8409-4075-c100-c2debe9723c7"
      },
      "source": [
        "Edu_Age_TotalWorking = np.array(X_test['Education'] / (X_test['Age'] + X_test['TotalWorkingYears']))\n",
        "CurrMgr_Coy = np.array(X_test['YearsWithCurrManager'] / (X_test['YearsAtCompany'] + 1))\n",
        "CurrRole_CurrMgr = np.array(X_test['YearsInCurrentRole'] / (X_test['YearsWithCurrManager'] + 1))\n",
        "X_test.insert(1,'EAT_working',  Edu_Age_TotalWorking)\n",
        "X_test.insert(2, 'CM_Coy', CurrMgr_Coy)\n",
        "X_test.insert(3, 'CR_CM', CurrRole_CurrMgr)\n",
        "\n",
        "print(chi_feature)\n",
        "\n",
        "X_test = X_test.loc[:, chi_feature]\n",
        "X_test.head()"
      ],
      "execution_count": null,
      "outputs": [
        {
          "output_type": "stream",
          "text": [
            "['Age', 'EAT_working', 'CM_Coy', 'CR_CM', 'Department', 'DistanceFromHome', 'EnvironmentSatisfaction', 'JobInvolvement', 'JobRole', 'JobSatisfaction', 'MaritalStatus', 'MonthlyIncome', 'OverTime', 'TrainingTimesLastYear', 'CommunicationSkill']\n"
          ],
          "name": "stdout"
        },
        {
          "output_type": "execute_result",
          "data": {
            "text/html": [
              "<div>\n",
              "<style scoped>\n",
              "    .dataframe tbody tr th:only-of-type {\n",
              "        vertical-align: middle;\n",
              "    }\n",
              "\n",
              "    .dataframe tbody tr th {\n",
              "        vertical-align: top;\n",
              "    }\n",
              "\n",
              "    .dataframe thead th {\n",
              "        text-align: right;\n",
              "    }\n",
              "</style>\n",
              "<table border=\"1\" class=\"dataframe\">\n",
              "  <thead>\n",
              "    <tr style=\"text-align: right;\">\n",
              "      <th></th>\n",
              "      <th>Age</th>\n",
              "      <th>EAT_working</th>\n",
              "      <th>CM_Coy</th>\n",
              "      <th>CR_CM</th>\n",
              "      <th>Department</th>\n",
              "      <th>DistanceFromHome</th>\n",
              "      <th>EnvironmentSatisfaction</th>\n",
              "      <th>JobInvolvement</th>\n",
              "      <th>JobRole</th>\n",
              "      <th>JobSatisfaction</th>\n",
              "      <th>MaritalStatus</th>\n",
              "      <th>MonthlyIncome</th>\n",
              "      <th>OverTime</th>\n",
              "      <th>TrainingTimesLastYear</th>\n",
              "      <th>CommunicationSkill</th>\n",
              "    </tr>\n",
              "  </thead>\n",
              "  <tbody>\n",
              "    <tr>\n",
              "      <th>0</th>\n",
              "      <td>28</td>\n",
              "      <td>0.090909</td>\n",
              "      <td>0.666667</td>\n",
              "      <td>0.400000</td>\n",
              "      <td>2</td>\n",
              "      <td>9</td>\n",
              "      <td>4</td>\n",
              "      <td>3</td>\n",
              "      <td>7</td>\n",
              "      <td>4</td>\n",
              "      <td>2</td>\n",
              "      <td>2070</td>\n",
              "      <td>1</td>\n",
              "      <td>3</td>\n",
              "      <td>5</td>\n",
              "    </tr>\n",
              "    <tr>\n",
              "      <th>1</th>\n",
              "      <td>31</td>\n",
              "      <td>0.090909</td>\n",
              "      <td>0.875000</td>\n",
              "      <td>0.875000</td>\n",
              "      <td>3</td>\n",
              "      <td>6</td>\n",
              "      <td>1</td>\n",
              "      <td>4</td>\n",
              "      <td>8</td>\n",
              "      <td>4</td>\n",
              "      <td>1</td>\n",
              "      <td>5460</td>\n",
              "      <td>1</td>\n",
              "      <td>4</td>\n",
              "      <td>3</td>\n",
              "    </tr>\n",
              "    <tr>\n",
              "      <th>2</th>\n",
              "      <td>37</td>\n",
              "      <td>0.060000</td>\n",
              "      <td>0.875000</td>\n",
              "      <td>0.875000</td>\n",
              "      <td>2</td>\n",
              "      <td>6</td>\n",
              "      <td>3</td>\n",
              "      <td>4</td>\n",
              "      <td>7</td>\n",
              "      <td>1</td>\n",
              "      <td>1</td>\n",
              "      <td>5974</td>\n",
              "      <td>2</td>\n",
              "      <td>2</td>\n",
              "      <td>4</td>\n",
              "    </tr>\n",
              "    <tr>\n",
              "      <th>3</th>\n",
              "      <td>42</td>\n",
              "      <td>0.040000</td>\n",
              "      <td>0.400000</td>\n",
              "      <td>1.000000</td>\n",
              "      <td>2</td>\n",
              "      <td>1</td>\n",
              "      <td>4</td>\n",
              "      <td>2</td>\n",
              "      <td>5</td>\n",
              "      <td>4</td>\n",
              "      <td>2</td>\n",
              "      <td>6062</td>\n",
              "      <td>2</td>\n",
              "      <td>4</td>\n",
              "      <td>5</td>\n",
              "    </tr>\n",
              "    <tr>\n",
              "      <th>4</th>\n",
              "      <td>45</td>\n",
              "      <td>0.037037</td>\n",
              "      <td>0.800000</td>\n",
              "      <td>0.777778</td>\n",
              "      <td>2</td>\n",
              "      <td>4</td>\n",
              "      <td>3</td>\n",
              "      <td>3</td>\n",
              "      <td>3</td>\n",
              "      <td>2</td>\n",
              "      <td>2</td>\n",
              "      <td>4447</td>\n",
              "      <td>1</td>\n",
              "      <td>5</td>\n",
              "      <td>2</td>\n",
              "    </tr>\n",
              "  </tbody>\n",
              "</table>\n",
              "</div>"
            ],
            "text/plain": [
              "   Age  EAT_working  ...  TrainingTimesLastYear  CommunicationSkill\n",
              "0   28     0.090909  ...                      3                   5\n",
              "1   31     0.090909  ...                      4                   3\n",
              "2   37     0.060000  ...                      2                   4\n",
              "3   42     0.040000  ...                      4                   5\n",
              "4   45     0.037037  ...                      5                   2\n",
              "\n",
              "[5 rows x 15 columns]"
            ]
          },
          "metadata": {
            "tags": []
          },
          "execution_count": 1387
        }
      ]
    },
    {
      "cell_type": "code",
      "metadata": {
        "id": "oLLTBS83qdBC",
        "colab_type": "code",
        "colab": {}
      },
      "source": [
        "X_test = pd.DataFrame(data=(X_test+0.1).apply(np.log), columns=X_test.columns)\n",
        "\n",
        "min_max_scaler.fit(X_test)\n",
        "X_test = pd.DataFrame(scaler.transform(X_test), columns=X_test.columns)"
      ],
      "execution_count": null,
      "outputs": []
    },
    {
      "cell_type": "code",
      "metadata": {
        "id": "BZkzP5d_qfaE",
        "colab_type": "code",
        "colab": {}
      },
      "source": [
        "Y_predict = model.predict_proba(X_test)\n",
        "Y_predict = Y_predict[:, 1]\n",
        "Y_predict = pd.DataFrame({'Id': ID_test, 'Attrition': Y_predict})\n",
        "\n",
        "Y_predict.head(40)\n",
        "\n",
        "Y_predict.to_csv('Submission_3.csv', index=False, header=True)"
      ],
      "execution_count": null,
      "outputs": []
    }
  ]
}